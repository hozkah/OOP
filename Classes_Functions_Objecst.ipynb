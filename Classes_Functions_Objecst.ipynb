{
 "cells": [
  {
   "cell_type": "markdown",
   "metadata": {},
   "source": [
    "<h3>Code Designed by Oscar_Odongkara_S23B23/085</h3>"
   ]
  },
  {
   "cell_type": "markdown",
   "metadata": {},
   "source": [
    "<h4>1. Vehicle Class</h4>\n",
    "Write a class Vehicle. A Vehicle has an instance variable to store the color of the Vehicle. The color can be retrieved with the getColor() method. The toString() method returns a String like This vehicle is red, depending on the actual color.\n"
   ]
  },
  {
   "cell_type": "code",
   "execution_count": 2,
   "metadata": {},
   "outputs": [],
   "source": [
    "class Vehicle:\n",
    "    def __init__(self, color):\n",
    "        self.color = color\n",
    "\n",
    "    def get_color(self):\n",
    "        return self.color\n",
    "\n",
    "    def __str__(self):\n",
    "        return f\"The vehicle is {self.color}\"\n"
   ]
  },
  {
   "cell_type": "markdown",
   "metadata": {},
   "source": [
    "<h4>2. Car Class</h4>\n",
    "Write a class Car that extends the class Vehicle. A car has an instance variable of type boolean to define whether it has winter tires or not (default value: false). The method toString() of the class Car prints the same message as the method of the class Vehicle, but it does also add another line with the content: has winter tires: true/false, depending on the actual value.\n"
   ]
  },
  {
   "cell_type": "code",
   "execution_count": 3,
   "metadata": {},
   "outputs": [],
   "source": [
    "class Car(Vehicle):\n",
    "    def __init__(self, color, has_winter_tires=False):\n",
    "        super().__init__(color)\n",
    "        self.has_winter_tires = has_winter_tires\n",
    "\n",
    "    def __str__(self):\n",
    "        return super().__str__() + f\"\\nhas winter tires: {self.has_winter_tires}\"\n"
   ]
  },
  {
   "cell_type": "markdown",
   "metadata": {},
   "source": [
    "<h4>3. Truck Class</h4>\n",
    "Write a class Truck that extends the class Vehicle. A truck has an instance variable of type boolean to define whether it has a trailer or not (default value: false). The method toString() of the class Truck prints the same message as the method of the class Vehicle, but it does also add another line with the content: has trailer: true/false, depending on the actual value."
   ]
  },
  {
   "cell_type": "code",
   "execution_count": 4,
   "metadata": {},
   "outputs": [],
   "source": [
    "class Truck(Vehicle):\n",
    "    def __init__(self, color, has_trailer=False):\n",
    "        super().__init__(color)\n",
    "        self.has_trailer = has_trailer\n",
    "\n",
    "    def __str__(self):\n",
    "        return super().__str__() + f\"\\nhas trailer: {self.has_trailer}\"\n"
   ]
  },
  {
   "cell_type": "markdown",
   "metadata": {},
   "source": [
    "<h4>4. Garage Class</h4>\n",
    "Write a class Garage that has a Vehicle as an instance variable. This garage can be used by Cars and Trucks. Define a method setVehicle(Vehicle parked) to park a vehicle in the garage. Provide a method toString() to print a message Description of the parked vehicle ... followed by the description of the vehicle that is in the garage at this moment."
   ]
  },
  {
   "cell_type": "code",
   "execution_count": 12,
   "metadata": {},
   "outputs": [],
   "source": [
    "class Garage:\n",
    "    def __init__(self):\n",
    "        self.parked_vehicle = None\n",
    "\n",
    "    def set_vehicle(self, vehicle):\n",
    "        self.parked_vehicle = vehicle\n",
    "\n",
    "    def __str__(self):\n",
    "        return f\"\\nDescription of the parked vehicle:{self.parked_vehicle}\" if self.parked_vehicle else \"Garage is empty.\"\n"
   ]
  },
  {
   "cell_type": "markdown",
   "metadata": {},
   "source": [
    "<h4>5. GarageTester Class</h4>\n",
    "Write a class GarageTester with a method getExample() (see template). In this method, create an object of the Truck class (color is black, and the truck has no trailer). Create an object of the Garage class. Put the Truck into the Garage."
   ]
  },
  {
   "cell_type": "code",
   "execution_count": 7,
   "metadata": {},
   "outputs": [
    {
     "name": "stdout",
     "output_type": "stream",
     "text": [
      "Description of the parked vehicle:\n",
      "The vehicle is black\n",
      "has trailer: False\n"
     ]
    }
   ],
   "source": [
    "class GarageTester:\n",
    "    def get_example():\n",
    "        truck = Truck(\"black\", has_trailer=False)\n",
    "        garage = Garage()\n",
    "        garage.set_vehicle(truck)\n",
    "        print(garage)\n",
    "\n",
    "# Testing the functionality\n",
    "GarageTester.get_example()\n"
   ]
  },
  {
   "cell_type": "markdown",
   "metadata": {},
   "source": [
    "<h4>6. Customer Class</h4>\n",
    "Write a class Customer that contains a name and an address of a customer."
   ]
  },
  {
   "cell_type": "code",
   "execution_count": 8,
   "metadata": {},
   "outputs": [],
   "source": [
    "class Customer:\n",
    "    def __init__(self, name, address):\n",
    "        self.name = name\n",
    "        self.address = address\n",
    "\n",
    "    def __str__(self):\n",
    "        return f\"Customer Name: {self.name}\\nAddress: {self.address}\"\n"
   ]
  },
  {
   "cell_type": "markdown",
   "metadata": {},
   "source": [
    "<h3>An Example of Usage of my code</h3>"
   ]
  },
  {
   "cell_type": "code",
   "execution_count": 13,
   "metadata": {},
   "outputs": [
    {
     "name": "stdout",
     "output_type": "stream",
     "text": [
      "\n",
      "Description of the parked vehicle:The vehicle is red\n",
      "has winter tires: True\n",
      "\n",
      "Description of the parked vehicle:The vehicle is black\n",
      "has trailer: False\n",
      "\n",
      "Customer:\n",
      "Customer Name: Oscar\n",
      "Address: 2nd Floor Alpha n Omega\n"
     ]
    }
   ],
   "source": [
    "\n",
    "car = Car(\"red\", has_winter_tires=True)\n",
    "\n",
    "truck = Truck(\"black\", has_trailer=False)\n",
    "\n",
    "garage = Garage()\n",
    "garage.set_vehicle(car)\n",
    "print(garage)\n",
    "\n",
    "garage.set_vehicle(truck)\n",
    "print(garage)\n",
    "\n",
    "customer = Customer(\"Oscar\", \"2nd Floor Alpha n Omega\")\n",
    "print(\"\\nCustomer:\")\n",
    "print(customer)\n"
   ]
  },
  {
   "cell_type": "markdown",
   "metadata": {},
   "source": [
    "<h3>THANK YOU ... Always learn with hozkah</h3>\n",
    "<h3>Don't forget to follow</h3>"
   ]
  }
 ],
 "metadata": {
  "kernelspec": {
   "display_name": "Python 3",
   "language": "python",
   "name": "python3"
  },
  "language_info": {
   "codemirror_mode": {
    "name": "ipython",
    "version": 3
   },
   "file_extension": ".py",
   "mimetype": "text/x-python",
   "name": "python",
   "nbconvert_exporter": "python",
   "pygments_lexer": "ipython3",
   "version": "3.12.4"
  }
 },
 "nbformat": 4,
 "nbformat_minor": 2
}
