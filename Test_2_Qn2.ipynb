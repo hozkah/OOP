{
 "cells": [
  {
   "cell_type": "markdown",
   "metadata": {},
   "source": [
    "#### Designed By: OSCAR ODONGKARA BSCS S23B23/085 B24774\n",
    "###### https://github.com/login?return_to=https%3A%2F%2Fgithub.com%2Fhozkah "
   ]
  },
  {
   "cell_type": "markdown",
   "metadata": {},
   "source": [
    "##### A Function to add students to a list ensuring all students in the dictionary are unique."
   ]
  },
  {
   "cell_type": "code",
   "execution_count": 1,
   "metadata": {},
   "outputs": [],
   "source": [
    "# Function to add a student\n",
    "def add_student(student_list, student_id, name, age, course):\n",
    "    # Check for unique student ID\n",
    "    for student in student_list:\n",
    "        if student['id'] == student_id:\n",
    "            print(f\"Error: Student with ID {student_id} already exists!\")\n",
    "            return\n",
    "    # Add student details as a dictionary to the student list\n",
    "    student_list.append({\n",
    "        'id': student_id,\n",
    "        'name': name,\n",
    "        'age': age,\n",
    "        'course': course\n",
    "    })\n",
    "    print(f\"Student {name} added successfully!\")"
   ]
  },
  {
   "cell_type": "markdown",
   "metadata": {},
   "source": [
    "##### Functions to find and remove a student by ID"
   ]
  },
  {
   "cell_type": "code",
   "execution_count": 2,
   "metadata": {},
   "outputs": [],
   "source": [
    "# Function to find a student by ID\n",
    "def find_student_by_id(student_list, student_id):\n",
    "    for student in student_list:\n",
    "        if student['id'] == student_id:\n",
    "            return student\n",
    "    print(f\"Error: Student with ID {student_id} not found!\")\n",
    "    return None\n",
    "\n",
    "# Function to remove a student by ID\n",
    "def remove_student_by_id(student_list, student_id):\n",
    "    for student in student_list:\n",
    "        if student['id'] == student_id:\n",
    "            student_list.remove(student)\n",
    "            print(f\"Student with ID {student_id} removed successfully!\")\n",
    "            return\n",
    "    print(f\"Error: Student with ID {student_id} not found!\")"
   ]
  },
  {
   "cell_type": "markdown",
   "metadata": {},
   "source": [
    " ##### Subclasses Student and Instructor. Both subclasses inheriting from  class person with specific attributes."
   ]
  },
  {
   "cell_type": "code",
   "execution_count": 3,
   "metadata": {},
   "outputs": [],
   "source": [
    "# Creating a base class Person\n",
    "class Person:\n",
    "    def __init__(self, name, age):\n",
    "        self.name = name\n",
    "        self.age = age\n",
    "\n",
    "    def get_details(self):\n",
    "        return f\"Name: {self.name}, Age: {self.age}\"\n",
    "\n",
    "# Subclass Student inheriting from Person\n",
    "class Student(Person):\n",
    "    def __init__(self, name, age, course):\n",
    "        super().__init__(name, age)\n",
    "        self.course = course\n",
    "\n",
    "    def study(self):\n",
    "        print(f\"{self.name} is studying {self.course}.\")\n",
    "\n",
    "# Subclass Instructor inheriting from Person\n",
    "class Instructor(Person):\n",
    "    def __init__(self, name, age, subject):\n",
    "        super().__init__(name, age)\n",
    "        self.subject = subject\n",
    "\n",
    "    def teach(self):\n",
    "        print(f\"{self.name} is teaching {self.subject}.\")\n",
    "\n",
    "        \n",
    "# Demonstrating polymorphism\n",
    "def demonstrate_polymorphism():\n",
    "    student = Student(\"Odongkara\", 27, \"Computer Science\")\n",
    "    instructor = Instructor(\"Mr. Brian\", 30, \"Object Oriented Programming\")\n",
    "\n",
    "    # Call methods specific to each subclass\n",
    "    student.study()\n",
    "    instructor.teach()\n"
   ]
  },
  {
   "cell_type": "markdown",
   "metadata": {},
   "source": [
    "##### Higher-order function to sort students based on arguments age and name"
   ]
  },
  {
   "cell_type": "code",
   "execution_count": 4,
   "metadata": {},
   "outputs": [],
   "source": [
    "# Higher-order function to sort students\n",
    "def sort_students(student_list, key_function):\n",
    "    student_list.sort(key=key_function)\n",
    "\n",
    "# Demonstrating sorting by age and name\n",
    "def demonstrate_sorting():\n",
    "    student_list = [\n",
    "        {'id': 2001, 'name': \"Oscar\", 'age': 27, 'course': \"Object Oriented Programming\"},\n",
    "        {'id': 2002, 'name': \"Calvin\", 'age': 23, 'course': \"Design & Analysis Of Algorithms\"},\n",
    "        {'id': 2003, 'name': \"Rachel\", 'age': 22, 'course': \"Data Structures and Algorithms\"}\n",
    "    ]\n",
    "\n",
    "    # Sorting by age\n",
    "    sort_students(student_list, key_function=lambda x: x['age'])\n",
    "    print(\"Sorted by age:\")\n",
    "    for student in student_list:\n",
    "        print(student)\n",
    "\n",
    "    # Sorting by name\n",
    "    sort_students(student_list, key_function=lambda x: x['name'])\n",
    "    print(\"\\nSorted by name:\")\n",
    "    for student in student_list:\n",
    "        print(student)"
   ]
  },
  {
   "cell_type": "markdown",
   "metadata": {},
   "source": [
    "##### Example Usage of the codes."
   ]
  },
  {
   "cell_type": "code",
   "execution_count": 5,
   "metadata": {},
   "outputs": [
    {
     "name": "stdout",
     "output_type": "stream",
     "text": [
      "Student Oscar added successfully!\n",
      "Student Calvin added successfully!\n",
      "Student Rachel added successfully!\n",
      "{'id': 2002, 'name': 'Calvin', 'age': 23, 'course': 'Design & Analysis Of Algorithms'}\n",
      "Student with ID 2003 removed successfully!\n",
      "Odongkara is studying Computer Science.\n",
      "Mr. Brian is teaching Object Oriented Programming.\n",
      "Sorted by age:\n",
      "{'id': 2003, 'name': 'Rachel', 'age': 22, 'course': 'Data Structures and Algorithms'}\n",
      "{'id': 2002, 'name': 'Calvin', 'age': 23, 'course': 'Design & Analysis Of Algorithms'}\n",
      "{'id': 2001, 'name': 'Oscar', 'age': 27, 'course': 'Object Oriented Programming'}\n",
      "\n",
      "Sorted by name:\n",
      "{'id': 2002, 'name': 'Calvin', 'age': 23, 'course': 'Design & Analysis Of Algorithms'}\n",
      "{'id': 2001, 'name': 'Oscar', 'age': 27, 'course': 'Object Oriented Programming'}\n",
      "{'id': 2003, 'name': 'Rachel', 'age': 22, 'course': 'Data Structures and Algorithms'}\n"
     ]
    }
   ],
   "source": [
    "# Example usage\n",
    "if __name__ == \"__main__\":\n",
    "    # Initialize an empty student list\n",
    "    students = []\n",
    "\n",
    "    # Adding students\n",
    "    add_student(students, 2001, \"Oscar\", 27, \"Object Oriented Programming\")\n",
    "    add_student(students, 2002, \"Calvin\", 23, \"Design & Analysis Of Algorithms\")\n",
    "    add_student(students, 2003, \"Rachel\", 22, \"Data Structures and Algorithms\")\n",
    "\n",
    "    # Finding a student\n",
    "    print(find_student_by_id(students, 2002))\n",
    "\n",
    "    # Removing a student\n",
    "    remove_student_by_id(students, 2003)\n",
    "\n",
    "    # Demonstrating polymorphism\n",
    "    demonstrate_polymorphism()\n",
    "\n",
    "    # Demonstrating sorting\n",
    "    demonstrate_sorting()\n"
   ]
  },
  {
   "cell_type": "markdown",
   "metadata": {},
   "source": [
    "#####       https://github.com/login?return_to=https%3A%2F%2Fgithub.com%2Fhozkah                       Thanks"
   ]
  }
 ],
 "metadata": {
  "kernelspec": {
   "display_name": "Python 3",
   "language": "python",
   "name": "python3"
  },
  "language_info": {
   "codemirror_mode": {
    "name": "ipython",
    "version": 3
   },
   "file_extension": ".py",
   "mimetype": "text/x-python",
   "name": "python",
   "nbconvert_exporter": "python",
   "pygments_lexer": "ipython3",
   "version": "3.12.4"
  }
 },
 "nbformat": 4,
 "nbformat_minor": 2
}
