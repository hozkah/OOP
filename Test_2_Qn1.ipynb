{
 "cells": [
  {
   "cell_type": "markdown",
   "metadata": {},
   "source": [
    "#### Designed By: OSCAR ODONGKARA BSCS S23B23/085 B24774\n",
    "###### https://github.com/login?return_to=https%3A%2F%2Fgithub.com%2Fhozkah "
   ]
  },
  {
   "cell_type": "markdown",
   "metadata": {},
   "source": [
    "##### Encapsulation: Private attributes are used in both Character and Vehicle classes, with methods provided to access and modify these attributes."
   ]
  },
  {
   "cell_type": "code",
   "execution_count": 1,
   "metadata": {},
   "outputs": [],
   "source": [
    "# Character class with encapsulation (private attributes)\n",
    "class Character:\n",
    "    def __init__(self, name, health, position):\n",
    "        self.__name = name\n",
    "        self.__health = health\n",
    "        self.__position = position\n",
    "\n",
    "    # Encapsulated getters and setters \n",
    "    def get_name(self):\n",
    "        return self.__name \n",
    "\n",
    "    def get_health(self):\n",
    "        return self.__health\n",
    "\n",
    "    def set_health(self, new_health):\n",
    "        if new_health >= 0:\n",
    "            self.__health = new_health\n",
    "        else:\n",
    "            print(\"Health cannot be negative!\")\n",
    "\n",
    "    def get_position(self):\n",
    "        return self.__position\n",
    "\n",
    "    def move(self, new_position):\n",
    "        self.__position = new_position\n",
    "        print(f\"{self.__name} moved to {self.__position}.\")\n",
    "\n",
    "    def attack(self, target):\n",
    "        print(f\"{self.__name} attacks {target.get_name()}!\")\n",
    "\n",
    "    def interact(self, item):\n",
    "        print(f\"{self.__name} interacts with {item}.\")\n",
    "\n",
    "# Vehicle class with encapsulation\n",
    "class Vehicle:\n",
    "    def __init__(self, vehicle_type, speed, fuel_level):\n",
    "        self.__vehicle_type = vehicle_type\n",
    "        self.__speed = speed\n",
    "        self.__fuel_level = fuel_level\n",
    "\n",
    "    # Encapsulated getters and setters\n",
    "    def get_vehicle_type(self):\n",
    "        return self.__vehicle_type\n",
    "\n",
    "    def get_speed(self):\n",
    "        return self.__speed\n",
    "\n",
    "    def set_speed(self, new_speed):\n",
    "        if new_speed >= 0:\n",
    "            self.__speed = new_speed\n",
    "        else:\n",
    "            print(\"Speed cannot be negative!\")\n",
    "\n",
    "    def get_fuel_level(self):\n",
    "        return self.__fuel_level\n",
    "\n",
    "    def refuel(self, amount):\n",
    "        self.__fuel_level += amount\n",
    "        print(f\"Vehicle refueled. Fuel level is now {self.__fuel_level}.\")\n",
    "\n",
    "    def drive(self):\n",
    "        if self.__fuel_level > 0:\n",
    "            self.__fuel_level -= 10\n",
    "            print(f\"The {self.__vehicle_type} is driving at {self.__speed} speed. Fuel level: {self.__fuel_level}.\")\n",
    "        else:\n",
    "            print(\"The vehicle is out of fuel!\")\n",
    "\n",
    "    def stop(self):\n",
    "        print(f\"The {self.__vehicle_type} has stopped.\")"
   ]
  },
  {
   "cell_type": "markdown",
   "metadata": {},
   "source": [
    "##### Abstraction: CharacterWithVehicle simplifies the interaction between a character and a vehicle, hiding the complex details."
   ]
  },
  {
   "cell_type": "code",
   "execution_count": 2,
   "metadata": {},
   "outputs": [],
   "source": [
    "\n",
    "# Interaction methods between Character and Vehicle\n",
    "class CharacterWithVehicle(Character):\n",
    "    def __init__(self, name, health, position):\n",
    "        super().__init__(name, health, position)\n",
    "        self.__in_vehicle = None\n",
    "\n",
    "    def get_in(self, vehicle):\n",
    "        if self.__in_vehicle is None:\n",
    "            self.__in_vehicle = vehicle\n",
    "            print(f\"{self.get_name()} got into the {vehicle.get_vehicle_type()}.\")\n",
    "        else:\n",
    "            print(f\"{self.get_name()} is already in a vehicle.\")\n",
    "\n",
    "    def get_out(self):\n",
    "        if self.__in_vehicle:\n",
    "            print(f\"{self.get_name()} got out of the {self.__in_vehicle.get_vehicle_type()}.\")\n",
    "            self.__in_vehicle = None\n",
    "        else:\n",
    "            print(f\"{self.get_name()} is not in any vehicle.\")\n",
    "\n",
    "    def drive_vehicle(self):\n",
    "        if self.__in_vehicle:\n",
    "            self.__in_vehicle.drive()\n",
    "        else:\n",
    "            print(f\"{self.get_name()} is not in any vehicle to drive.\")"
   ]
  },
  {
   "cell_type": "markdown",
   "metadata": {},
   "source": [
    "##### Inheritance: HeroCharacter extends CharacterWithVehicle, adding a special method double_jump()."
   ]
  },
  {
   "cell_type": "code",
   "execution_count": 3,
   "metadata": {},
   "outputs": [],
   "source": [
    "# Specialized Character class using inheritance\n",
    "class HeroCharacter(CharacterWithVehicle):\n",
    "    def __init__(self, name, health, position):\n",
    "        super().__init__(name, health, position)\n",
    "\n",
    "    def double_jump(self):\n",
    "        print(f\"{self.get_name()} performed a double jump!\")"
   ]
  },
  {
   "cell_type": "markdown",
   "metadata": {},
   "source": [
    "##### Polymorphism: The game can handle different types of vehicles using the same interface."
   ]
  },
  {
   "cell_type": "code",
   "execution_count": 4,
   "metadata": {},
   "outputs": [
    {
     "name": "stdout",
     "output_type": "stream",
     "text": [
      "Oscar moved to Street.\n",
      "Oscar interacts with A policeman.\n",
      "Oscar got into the Car.\n",
      "The Car is driving at 80 speed. Fuel level: 40.\n",
      "Oscar performed a double jump!\n",
      "Oscar got out of the Car.\n",
      "Oscar got into the Bike.\n",
      "The Bike is driving at 50 speed. Fuel level: 20.\n",
      "Using a Car...\n",
      "Vehicle refueled. Fuel level is now 60.\n",
      "Using a Bike...\n",
      "Vehicle refueled. Fuel level is now 40.\n"
     ]
    }
   ],
   "source": [
    "# Example Scenario Demonstrating Interaction and Polymorphism\n",
    "def game_scenario():\n",
    "    # Creating character and vehicle objects\n",
    "    hero = HeroCharacter(\"Oscar\", 100, \"Starting position\")\n",
    "    car = Vehicle(\"Car\", 80, 50)\n",
    "    bike = Vehicle(\"Bike\", 50, 30)\n",
    "\n",
    "    # Hero interacting with the environment\n",
    "    hero.move(\"Street\")\n",
    "    hero.interact(\"A policeman\")\n",
    "\n",
    "    # Hero getting into the car and driving\n",
    "    hero.get_in(car)\n",
    "    hero.drive_vehicle()\n",
    "\n",
    "    # Hero performing a special ability\n",
    "    hero.double_jump()\n",
    "\n",
    "    # Hero getting out of the car and into the bike\n",
    "    hero.get_out()\n",
    "    hero.get_in(bike)\n",
    "    hero.drive_vehicle()\n",
    "\n",
    "    # Polymorphism: Using vehicles interchangeably\n",
    "    vehicles = [car, bike]\n",
    "    for vehicle in vehicles:\n",
    "        print(f\"Using a {vehicle.get_vehicle_type()}...\")\n",
    "        vehicle.refuel(20)\n",
    "\n",
    "# Running the game scenario\n",
    "game_scenario()\n"
   ]
  },
  {
   "cell_type": "markdown",
   "metadata": {},
   "source": [
    "#####       https://github.com/login?return_to=https%3A%2F%2Fgithub.com%2Fhozkah                       Thanks"
   ]
  }
 ],
 "metadata": {
  "kernelspec": {
   "display_name": "Python 3",
   "language": "python",
   "name": "python3"
  },
  "language_info": {
   "codemirror_mode": {
    "name": "ipython",
    "version": 3
   },
   "file_extension": ".py",
   "mimetype": "text/x-python",
   "name": "python",
   "nbconvert_exporter": "python",
   "pygments_lexer": "ipython3",
   "version": "3.12.4"
  }
 },
 "nbformat": 4,
 "nbformat_minor": 2
}
